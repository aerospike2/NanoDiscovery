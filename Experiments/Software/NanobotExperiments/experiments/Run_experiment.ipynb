{
 "cells": [
  {
   "cell_type": "code",
   "execution_count": 1,
   "metadata": {},
   "outputs": [],
   "source": [
    "import os\n",
    "import json\n",
    "import time\n",
    "import pathlib"
   ]
  },
  {
   "cell_type": "code",
   "execution_count": 2,
   "metadata": {},
   "outputs": [],
   "source": [
    "base_directory=\"../data/custom/\""
   ]
  },
  {
   "cell_type": "code",
   "execution_count": null,
   "metadata": {
    "scrolled": true
   },
   "outputs": [],
   "source": [
    "for generation_num in range(10):\n",
    "    # wait for the algorithim to generate data before run actual experiments\n",
    "    while True:\n",
    "        if pathlib.Path(base_directory+\"MAP_elite_generation_%d\"%generation_num+'/flag1.txt').is_file():\n",
    "            break\n",
    "        time.sleep(2)\n",
    "    # run the platform\n",
    "    print(\"Open/Switch to a terminal and run basic.py file under this folder to control the platform\")\n",
    "    \n",
    "    input('Press Enter after getting the data from the robot')\n",
    "    # indicate the run of the platform is finished\n",
    "    with open(base_directory+\"MAP_elite_generation_%d\"%generation_num+'/flag2.txt', 'w') as f:\n",
    "        json.dump(1, f,indent=4)"
   ]
  },
  {
   "cell_type": "code",
   "execution_count": null,
   "metadata": {},
   "outputs": [],
   "source": []
  }
 ],
 "metadata": {
  "interpreter": {
   "hash": "a744fa8b948b3e9368cf0059071fba34dd7c35d69a6e6763a2919a4112cf4f91"
  },
  "kernelspec": {
   "display_name": "Python 3.8.5 ('base')",
   "language": "python",
   "name": "python3"
  },
  "language_info": {
   "codemirror_mode": {
    "name": "ipython",
    "version": 3
   },
   "file_extension": ".py",
   "mimetype": "text/x-python",
   "name": "python",
   "nbconvert_exporter": "python",
   "pygments_lexer": "ipython3",
   "version": "3.8.5"
  }
 },
 "nbformat": 4,
 "nbformat_minor": 2
}

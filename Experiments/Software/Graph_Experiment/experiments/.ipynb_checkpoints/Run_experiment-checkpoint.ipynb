{
 "cells": [
  {
   "cell_type": "code",
   "execution_count": null,
   "metadata": {},
   "outputs": [],
   "source": [
    "import os\n",
    "import json\n",
    "import time\n",
    "import pathlib"
   ]
  },
  {
   "cell_type": "code",
   "execution_count": null,
   "metadata": {},
   "outputs": [],
   "source": [
    "base_directory=\"../data/custom/\""
   ]
  },
  {
   "cell_type": "code",
   "execution_count": null,
   "metadata": {},
   "outputs": [],
   "source": [
    "for generation_num in range(10):\n",
    "    # wait for the algorithim to generate data before run actual experiments\n",
    "    while True:\n",
    "        if pathlib.Path(base_directory+\"MAP_elite_generation_%d\"%generation_num+'/flag1.txt').is_file():\n",
    "            break\n",
    "        time.sleep(2)\n",
    "    # run the platform\n",
    "    os.system('python3 basic.py')\n",
    "    input('Press Enter after getting the data from the robot')\n",
    "    # indicate the run of the platform is finished\n",
    "    with open(base_directory+\"MAP_elite_generation_%d\"%generation_num+'/flag2.txt', 'w') as f:\n",
    "        json.dump(1, f,indent=4)"
   ]
  },
  {
   "cell_type": "code",
   "execution_count": null,
   "metadata": {},
   "outputs": [],
   "source": []
  }
 ],
 "metadata": {
  "kernelspec": {
   "display_name": "Python 3",
   "language": "python",
   "name": "python3"
  },
  "language_info": {
   "codemirror_mode": {
    "name": "ipython",
    "version": 3
   },
   "file_extension": ".py",
   "mimetype": "text/x-python",
   "name": "python",
   "nbconvert_exporter": "python",
   "pygments_lexer": "ipython3",
   "version": "3.7.3"
  }
 },
 "nbformat": 4,
 "nbformat_minor": 2
}

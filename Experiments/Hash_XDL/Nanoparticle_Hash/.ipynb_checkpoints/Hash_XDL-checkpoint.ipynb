{
 "cells": [
  {
   "cell_type": "code",
   "execution_count": 1,
   "metadata": {},
   "outputs": [],
   "source": [
    "from xdl import XDL\n",
    "from xdl.platforms import PlaceholderPlatform\n",
    "import hashlib\n",
    "import numpy as np"
   ]
  },
  {
   "cell_type": "code",
   "execution_count": 2,
   "metadata": {},
   "outputs": [],
   "source": [
    "def sort_reagent_name(xdl):\n",
    "    \"\"\"\n",
    "    Sort the reagents of XDL according to their names\n",
    "    Args:\n",
    "        xdl:XDL objects\n",
    "    Returns:\n",
    "        xdl:Updated XDL obeject\n",
    "    \"\"\"\n",
    "    xdl_json = xdl.as_json()\n",
    "    indexes = np.argsort([xdl_json['reagents'][i]['name'] for i in range(len(xdl_json['reagents']))])\n",
    "    xdl_json['reagents'] = [xdl_json['reagents'][index] for index in indexes]\n",
    "    return XDL(xdl_json,platform = PlaceholderPlatform)"
   ]
  },
  {
   "cell_type": "code",
   "execution_count": 3,
   "metadata": {},
   "outputs": [
    {
     "name": "stdout",
     "output_type": "stream",
     "text": [
      "fea22ec7926730ffd8649f4bf2d2bbfdd5958f219c319407a3001f7847c2baed\n"
     ]
    }
   ],
   "source": [
    "# Hash the initial seed\n",
    "test_xdl = XDL(\"NP_seed.xdl\",platform = PlaceholderPlatform)\n",
    "test_xdl = sort_reagent_name(test_xdl)\n",
    "xdl_str = test_xdl.as_string()\n",
    "hash_value = hashlib.sha256((xdl_str+'True').encode('UTF-8')).hexdigest()\n",
    "# print(xdl_str)\n",
    "print(hash_value)"
   ]
  },
  {
   "cell_type": "code",
   "execution_count": 4,
   "metadata": {
    "scrolled": false
   },
   "outputs": [
    {
     "name": "stdout",
     "output_type": "stream",
     "text": [
      "bb669cd6bedb01d4b02403646a422ca2df5c5c0bc64477dc07c9021a8f487984\n",
      "b504de7889c5c11e464b4271599eeae824b17dbc7e656079b16b6bb4703c6af6\n"
     ]
    }
   ],
   "source": [
    "# Hash the first batch\n",
    "test_xdl = XDL(\"NP1.xdl\",platform = PlaceholderPlatform)\n",
    "test_xdl = sort_reagent_name(test_xdl)\n",
    "xdl_str = test_xdl.as_string()\n",
    "hash_value = hashlib.sha256((xdl_str+'True').encode('UTF-8')).hexdigest()\n",
    "# print(xdl_str)\n",
    "print(hash_value)\n",
    "\n",
    "test_xdl = XDL(\"NP2.xdl\",platform = PlaceholderPlatform)\n",
    "test_xdl = sort_reagent_name(test_xdl)\n",
    "xdl_str = test_xdl.as_string()\n",
    "hash_value = hashlib.sha256((xdl_str+'True').encode('UTF-8')).hexdigest()\n",
    "# print(xdl_str)\n",
    "print(hash_value)"
   ]
  },
  {
   "cell_type": "code",
   "execution_count": 5,
   "metadata": {},
   "outputs": [
    {
     "name": "stdout",
     "output_type": "stream",
     "text": [
      "e83467b11fbd70533352227c13faedfaa694f7b7e44e6fc968131b11b39aec12\n",
      "47f81c61902a72142c9db28e1f4c5d0576ae9c8d592f611cd18a351aa2d3ac08\n"
     ]
    }
   ],
   "source": [
    "# Hash the second batch\n",
    "test_xdl = XDL(\"NP3.xdl\",platform = PlaceholderPlatform)\n",
    "test_xdl = sort_reagent_name(test_xdl)\n",
    "xdl_str = test_xdl.as_string()\n",
    "hash_value = hashlib.sha256((xdl_str+'True').encode('UTF-8')).hexdigest()\n",
    "# print(xdl_str)\n",
    "print(hash_value)\n",
    "\n",
    "test_xdl = XDL(\"NP4.xdl\",platform = PlaceholderPlatform)\n",
    "test_xdl = sort_reagent_name(test_xdl)\n",
    "xdl_str = test_xdl.as_string()\n",
    "hash_value = hashlib.sha256((xdl_str+'True').encode('UTF-8')).hexdigest()\n",
    "# print(xdl_str)\n",
    "print(hash_value)"
   ]
  },
  {
   "cell_type": "code",
   "execution_count": 6,
   "metadata": {},
   "outputs": [
    {
     "name": "stdout",
     "output_type": "stream",
     "text": [
      "15e9adcd58a12d9a4a7ebc7b686026598c6eb939a775069adda2231b499f936f\n",
      "4c07e7e27f7f1749237f8cd1f7830baf339ee6997103d07220e4505988f08b19\n"
     ]
    }
   ],
   "source": [
    "# Hash the third batch \n",
    "test_xdl = XDL(\"NP5.xdl\",platform = PlaceholderPlatform)\n",
    "test_xdl = sort_reagent_name(test_xdl)\n",
    "xdl_str = test_xdl.as_string()\n",
    "hash_value = hashlib.sha256((xdl_str+'True').encode('UTF-8')).hexdigest()\n",
    "# print(xdl_str)\n",
    "print(hash_value)\n",
    "\n",
    "test_xdl = XDL(\"NP6.xdl\",platform = PlaceholderPlatform)\n",
    "test_xdl = sort_reagent_name(test_xdl)\n",
    "xdl_str = test_xdl.as_string()\n",
    "hash_value = hashlib.sha256((xdl_str+'True').encode('UTF-8')).hexdigest()\n",
    "# print(xdl_str)\n",
    "print(hash_value)"
   ]
  }
 ],
 "metadata": {
  "kernelspec": {
   "display_name": "Python 3 (ipykernel)",
   "language": "python",
   "name": "python3"
  },
  "language_info": {
   "codemirror_mode": {
    "name": "ipython",
    "version": 3
   },
   "file_extension": ".py",
   "mimetype": "text/x-python",
   "name": "python",
   "nbconvert_exporter": "python",
   "pygments_lexer": "ipython3",
   "version": "3.9.12"
  }
 },
 "nbformat": 4,
 "nbformat_minor": 4
}

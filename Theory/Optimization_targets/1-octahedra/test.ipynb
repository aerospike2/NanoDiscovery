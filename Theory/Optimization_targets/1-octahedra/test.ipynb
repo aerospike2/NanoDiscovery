{
 "cells": [
  {
   "cell_type": "code",
   "execution_count": null,
   "metadata": {},
   "outputs": [],
   "source": [
    "# -------------------------------------------------------------------------------------- #\n",
    "# ---------- DISCRETE DIPOLE METHOD FOR UV-VIS CALCULATIONS FROM DIPOLE DATA ----------- #\n",
    "# -------------------------------------------------------------------------------------- #\n",
    "\n",
    "import os\n",
    "import json\n",
    "import pathlib\n",
    "import numpy as np\n",
    "from dda import DDA"
   ]
  },
  {
   "cell_type": "code",
   "execution_count": null,
   "metadata": {
    "scrolled": true
   },
   "outputs": [],
   "source": [
    "# GPU Device Config\n",
    "os.environ[\"CUDA_DEVICE_ORDER\"]=\"PCI_BUS_ID\"   \n",
    "os.environ[\"CUDA_VISIBLE_DEVICES\"]=\"2\"\n",
    "\n",
    "current_folder_path = pathlib.Path().absolute()\n",
    "# simulate the octahedra with longer axis as 80 nm from the superellipsoid\n",
    "# a smaller geometry (longer axis length of ~ 75 nm) is actually simulated due to the geometric error \n",
    "config = {'gpu_device': '/GPU:0',\n",
    "          'dipole_length': 2.88,\n",
    "          'min_wavelength': 0.4,\n",
    "          'max_wavelength': 0.95,\n",
    "          'num_wavelengths': 56,\n",
    "          'ref_medium': 1.333,\n",
    "          'rotation_steps': 10,\n",
    "          'folder_path': None,\n",
    "          'calculate_electricField': False,\n",
    "          'ref_data': str(current_folder_path) + '/Au_ref_index.csv',\n",
    "          'dipole_data': str(current_folder_path) + '/dipoleList.csv'\n",
    "        }\n",
    "\n",
    "   \n",
    "config['folder_path'] = str(current_folder_path)\n",
    "np_dda = DDA(config)\n",
    "np_dda.run_DDA()\n",
    "np_dda.plot_spectra()\n",
    "np.savetxt(\"Results.csv\",np.array(np_dda.C_cross_total)/np.pi/np_dda.c_rad**2,delimiter=\",\")"
   ]
  },
  {
   "cell_type": "code",
   "execution_count": null,
   "metadata": {},
   "outputs": [],
   "source": [
    "results = np.loadtxt('Results.csv',delimiter=',')"
   ]
  },
  {
   "cell_type": "code",
   "execution_count": null,
   "metadata": {},
   "outputs": [],
   "source": [
    "from scipy.interpolate import interp1d\n",
    "\n",
    "wavelength_temp = np.linspace(0.4,0.95,56)\n",
    "UV_sample = interp1d(wavelength_temp, results, kind='cubic',fill_value='extrapolate')\n",
    "wavelengths = np.linspace(0.4,0.95,1000)\n",
    "\n",
    "series=UV_sample(wavelengths)\n",
    "\n",
    "np.savetxt('Q_data.csv',series,delimiter=',')\n",
    "np.savetxt('Q_data_wavelength.csv',wavelengths,delimiter=',')"
   ]
  },
  {
   "cell_type": "code",
   "execution_count": null,
   "metadata": {},
   "outputs": [],
   "source": []
  }
 ],
 "metadata": {
  "kernelspec": {
   "display_name": "Python 3",
   "language": "python",
   "name": "python3"
  },
  "language_info": {
   "codemirror_mode": {
    "name": "ipython",
    "version": 3
   },
   "file_extension": ".py",
   "mimetype": "text/x-python",
   "name": "python",
   "nbconvert_exporter": "python",
   "pygments_lexer": "ipython3",
   "version": "3.7.7"
  }
 },
 "nbformat": 4,
 "nbformat_minor": 4
}

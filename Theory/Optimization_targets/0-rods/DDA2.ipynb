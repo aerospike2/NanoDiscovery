{
 "cells": [
  {
   "cell_type": "code",
   "execution_count": null,
   "metadata": {
    "scrolled": true
   },
   "outputs": [],
   "source": [
    "import os\n",
    "import sys\n",
    "import tensorflow as tf\n",
    "import time\n",
    "import pandas as pd\n",
    "import numpy as np \n",
    "from matplotlib import pyplot as plt\n",
    "from scipy.interpolate import interp1d\n",
    "from mpl_toolkits.mplot3d import Axes3D\n",
    "from multiprocessing import Process\n",
    "import fresnel"
   ]
  },
  {
   "cell_type": "code",
   "execution_count": null,
   "metadata": {},
   "outputs": [],
   "source": [
    "os.environ[\"CUDA_DEVICE_ORDER\"]=\"PCI_BUS_ID\"   # see issue #152\n",
    "os.environ[\"CUDA_VISIBLE_DEVICES\"]=\"2\""
   ]
  },
  {
   "cell_type": "markdown",
   "metadata": {},
   "source": [
    "# define method to calculate A_matrix"
   ]
  },
  {
   "cell_type": "code",
   "execution_count": null,
   "metadata": {
    "scrolled": true
   },
   "outputs": [],
   "source": [
    "def obtain_Amatrix2(r,k,alpha_j):\n",
    "    #matrix operation to create A_matrix\n",
    "    #reshape r\n",
    "    r2=tf.reshape(r,(-1,1,1,3))\n",
    "    r3=tf.reshape(r,(1,-1,1,3))\n",
    "    #calculate the point difference\n",
    "    r4=(r2-r3)\n",
    "    #calculate the distance\n",
    "    rij=tf.reshape(tf.norm(r4,axis=(2,3))+tf.eye(len(r),dtype=tf.complex64),(len(r),len(r),1,1))\n",
    "    #normalize the distance\n",
    "    r4_norm=r4/rij\n",
    "    #calculate the 3*3 matrix\n",
    "    r5=tf.matmul(tf.linalg.matrix_transpose(r4_norm),r4_norm)\n",
    "    #read in wavenumber\n",
    "    norm_k=tf.cast(tf.norm(k),tf.complex64)\n",
    "    #convert types\n",
    "    rij=tf.cast(rij,tf.complex64)\n",
    "    r5=tf.cast(r5,tf.complex64)\n",
    "    #calculate A according to Green function\n",
    "    A_matrix=tf.exp(1j*norm_k*rij)/rij*(\n",
    "    ((norm_k)**2)*(r5-tf.eye(3,dtype=tf.complex64))+(1j*norm_k*rij-1)/(rij**2)*(3*r5-tf.eye(3,dtype=tf.complex64)))\n",
    "    #reshape A into two-dimensional matrix\n",
    "    A_matrix=tf.reshape(tf.transpose(A_matrix,(1,3,0,2)),(len(r)*3,len(r)*3))\n",
    "    #vanish the diagonal element and add the 1/alpha_j\n",
    "    A_matrix=tf.linalg.set_diag(A_matrix, tf.zeros(A_matrix.shape[0],dtype=tf.complex64), name=None)+1/alpha_j*tf.eye(A_matrix.shape[0],dtype=tf.complex64)\n",
    "    return A_matrix"
   ]
  },
  {
   "cell_type": "code",
   "execution_count": null,
   "metadata": {},
   "outputs": [],
   "source": [
    "def calculate_r(d,N):\n",
    "    return ((d**3)*N*3/4/np.pi)**(1/3)"
   ]
  },
  {
   "cell_type": "code",
   "execution_count": null,
   "metadata": {
    "scrolled": true
   },
   "outputs": [],
   "source": [
    "def obtain_rotation_matrix(theta_x,theta_y,theta_z):\n",
    "    \n",
    "    rot_x = tf.constant([[1,0,0],\n",
    "        [0,np.cos(theta_x),-np.sin(theta_x)],\n",
    "        [0,np.sin(theta_x),np.cos(theta_x)]],dtype=tf.complex64)\n",
    "\n",
    "    rot_y = tf.constant([[np.cos(theta_y),0,np.sin(theta_y)],\n",
    "        [0,1,0],\n",
    "        [-np.sin(theta_y),0,np.cos(theta_y)]],dtype=tf.complex64)\n",
    "\n",
    "    rot_z = tf.constant([[np.cos(theta_z),-np.sin(theta_z),0],\n",
    "        [np.sin(theta_z),np.cos(theta_z),0],\n",
    "        [0,0,1]],dtype=tf.complex64)\n",
    "\n",
    "    rot_matrix = tf.matmul(rot_z, tf.matmul(rot_y, rot_x))\n",
    "    return rot_matrix"
   ]
  },
  {
   "cell_type": "code",
   "execution_count": null,
   "metadata": {
    "scrolled": true
   },
   "outputs": [],
   "source": [
    "def delete_1D(new_position,position):\n",
    "    A=np.array(np.around(new_position,7)).tolist()\n",
    "    B=np.array(np.around(position,7)).tolist()\n",
    "    A = [i for i in A if i not in B]\n",
    "    return A"
   ]
  },
  {
   "cell_type": "code",
   "execution_count": null,
   "metadata": {
    "scrolled": true
   },
   "outputs": [],
   "source": [
    "def dense_to_sparse(x):\n",
    "    idx = tf.where(tf.not_equal(x, 0))\n",
    "    sparse = tf.SparseTensor(idx, tf.gather_nd(x, idx), x.get_shape())\n",
    "    return sparse"
   ]
  },
  {
   "cell_type": "markdown",
   "metadata": {},
   "source": [
    "# Read in the dielectric constant and simulate on the corrsponding wavelength"
   ]
  },
  {
   "cell_type": "code",
   "execution_count": null,
   "metadata": {
    "scrolled": false
   },
   "outputs": [],
   "source": [
    "diename='Au2'"
   ]
  },
  {
   "cell_type": "code",
   "execution_count": null,
   "metadata": {
    "scrolled": false
   },
   "outputs": [],
   "source": [
    "data = open(diename, \"r\")\n",
    "diel_txt=[]\n",
    "for x in data:\n",
    "    diel_txt.append(x)\n",
    "diel=[]\n",
    "for x in diel_txt[3:]:\n",
    "    diel.append([float(i) for i in x.replace('\\n','').split('   ')])\n",
    "diel=np.array(diel)\n",
    "wavelength=diel[:,0]"
   ]
  },
  {
   "cell_type": "code",
   "execution_count": null,
   "metadata": {
    "scrolled": false
   },
   "outputs": [],
   "source": [
    "n_real = interp1d(wavelength, diel[:,1], kind='cubic')\n",
    "n_image = interp1d(wavelength, diel[:,2], kind='cubic')"
   ]
  },
  {
   "cell_type": "code",
   "execution_count": null,
   "metadata": {
    "scrolled": true
   },
   "outputs": [],
   "source": [
    "plt.plot(np.linspace(0.3,1,100),n_real(np.linspace(0.3,1,100)))\n",
    "plt.scatter(wavelength,diel[:,1])"
   ]
  },
  {
   "cell_type": "code",
   "execution_count": null,
   "metadata": {
    "scrolled": false
   },
   "outputs": [],
   "source": [
    "plt.plot(np.linspace(0.3,1,100),n_image(np.linspace(0.3,1,100)))\n",
    "plt.scatter(wavelength,diel[:,2])"
   ]
  },
  {
   "cell_type": "code",
   "execution_count": null,
   "metadata": {
    "scrolled": false
   },
   "outputs": [],
   "source": [
    "plt.plot(np.linspace(0.3,1,100),n_real(np.linspace(0.3,1,100)))\n",
    "plt.scatter(wavelength,diel[:,1])"
   ]
  },
  {
   "cell_type": "code",
   "execution_count": null,
   "metadata": {
    "scrolled": false
   },
   "outputs": [],
   "source": [
    "wavelength_exp=np.linspace(0.4,0.95,56)"
   ]
  },
  {
   "cell_type": "code",
   "execution_count": null,
   "metadata": {
    "scrolled": false
   },
   "outputs": [],
   "source": [
    "#polarization\n",
    "refractive_target=(n_real(wavelength_exp)+1j*n_image(wavelength_exp)).astype(\"complex64\") #refractive index of target\n",
    "refractive_medium=1.333 #refractive index of ambient medium\n",
    "refractive_rel=refractive_target/refractive_medium #relative refractive index\n",
    "wavelength_rel=wavelength_exp/refractive_medium #relative wavelength\n",
    "k=2*np.pi/wavelength_rel #wavenumber in micron meter\n",
    "\n",
    "#fixed cell space\n",
    "d=1/1000\n",
    "#define Clausius-Mossotti polarizability and FLTRDD polarizability further\n",
    "alpha_CM=3*(d**3)*(refractive_rel**2-1)/4/np.pi/(refractive_rel**2+2)\n",
    "D=alpha_CM/(d**3)*(4/3*((k*d)**2)+2/3/np.pi*np.log((np.pi-k*d)/(np.pi+k*d))*((k*d)**3)+2j/3*((k*d)**3))\n",
    "alpha_j=alpha_CM/(1+D)"
   ]
  },
  {
   "cell_type": "markdown",
   "metadata": {},
   "source": [
    "# A Simple test for the first wavelength"
   ]
  },
  {
   "cell_type": "code",
   "execution_count": null,
   "metadata": {},
   "outputs": [],
   "source": [
    "position=[]\n",
    "R= 5.5\n",
    "for x in range(-10,10):\n",
    "    for y in range(-10,10):\n",
    "        for z in range(-17,16):\n",
    "            if x**2 + y**2 <=R**2:\n",
    "                position.append([x,y,z]) \n",
    "position=np.array(position)\n",
    "len(position)"
   ]
  },
  {
   "cell_type": "code",
   "execution_count": null,
   "metadata": {},
   "outputs": [],
   "source": [
    "fig = plt.figure()\n",
    "ax = fig.add_subplot(111, projection='3d')\n",
    "ax.scatter(position[:,0], position[:,1], position[:,2])"
   ]
  },
  {
   "cell_type": "code",
   "execution_count": null,
   "metadata": {},
   "outputs": [],
   "source": [
    "scene = fresnel.Scene()\n",
    "geometry1 = fresnel.geometry.Sphere(scene, N=len(position), radius=0.5)\n",
    "geometry1.position[:] = position\n",
    "geometry1.material = fresnel.material.Material(color=fresnel.color.linear([0.25,0.5,0.9]),\n",
    "                                              roughness=0.8)\n",
    "fresnel.preview(scene)"
   ]
  },
  {
   "cell_type": "code",
   "execution_count": null,
   "metadata": {},
   "outputs": [],
   "source": [
    "r_old=d*tf.constant(position,dtype=tf.complex64)"
   ]
  },
  {
   "cell_type": "code",
   "execution_count": null,
   "metadata": {
    "scrolled": true
   },
   "outputs": [],
   "source": [
    "C_cross_total=[]\n",
    "# C_cross_absorption=[]\n",
    "for index_wave in range(len(wavelength_exp)):\n",
    "    C_cross=[]\n",
    "    print(index_wave)\n",
    "    with tf.device('/GPU:0'):\n",
    "        A_matrix1= obtain_Amatrix2(r_old,k[index_wave],alpha_j[index_wave])\n",
    "        A_matrix_reverse=tf.linalg.inv(A_matrix1, adjoint=False, name=None)\n",
    "        A_matrix1_shape=A_matrix1.shape[0]\n",
    "        A_matrix1=[]\n",
    "        \n",
    "    with tf.device('/GPU:0'):\n",
    "        #set different orientations\n",
    "        rotation_matrix_incident=[]\n",
    "        rotation_matrix_polarization=[]\n",
    "        for theta_y in np.arccos(np.linspace(1,-1,10)):\n",
    "            for theta_z in np.linspace(0,2*np.pi,10,endpoint=False):\n",
    "                for theta_z_pol in np.linspace(0,2*np.pi,10,endpoint=False):\n",
    "                    rotation_matrix_incident.append(obtain_rotation_matrix(0,theta_y,theta_z))\n",
    "                    rotation_matrix_polarization.append(obtain_rotation_matrix(0,0,theta_z_pol))\n",
    "\n",
    "        rotation_matrix_incident=tf.stack(rotation_matrix_incident)\n",
    "        rotation_matrix_polarization=tf.stack(rotation_matrix_polarization)\n",
    "\n",
    "        #set the initial electric field\n",
    "        E_in0=tf.constant([[1,0,0]],dtype=tf.complex64)\n",
    "        E_pol=tf.constant([[0],[0],[-k[index_wave]]],dtype=tf.complex64)\n",
    "\n",
    "        #rotate the initial electric field\n",
    "        E_pol_set=tf.matmul(rotation_matrix_incident,E_pol)\n",
    "        E_in0_set=tf.matmul(rotation_matrix_polarization,tf.transpose(E_in0))\n",
    "        E_in0_set=tf.linalg.matrix_transpose(tf.matmul(rotation_matrix_incident,E_in0_set))\n",
    "\n",
    "\n",
    "        #calculate k dot r\n",
    "        kdotr=tf.matmul(r_old,E_pol_set)\n",
    "\n",
    "        #calculate the E_j for every dipole\n",
    "        E_j=tf.exp(1j*kdotr)*E_in0_set\n",
    "        E_j=tf.reshape(E_j,(E_j.shape[0],-1,1))\n",
    "        E_j=tf.cast(E_j,tf.complex64)\n",
    "\n",
    "        #calculate the dipoles\n",
    "        dipoles=tf.matmul(A_matrix_reverse,E_j)\n",
    "        \n",
    "        C_cross_temp=4*np.pi*k[index_wave]*tf.reduce_sum(tf.math.imag(tf.math.conj(E_j)*dipoles))/E_j.shape[0]\n",
    "# #         C_cross_absorption_temp=4*np.pi*k[index_wave]*tf.reduce_sum((tf.math.imag(tf.cast(tf.math.conj((1/alpha_j[index_wave])),tf.complex64)*dipoles*tf.math.conj((dipoles)))\n",
    "#                                                        -2/3*(k[index_wave]**3)*abs(dipoles)))\n",
    "#         C_cross_absorption.append(C_cross_absorption_temp)\n",
    "        print(C_cross_temp)\n",
    "        C_cross.append(C_cross_temp)\n",
    "        \n",
    "    C_cross_total.append(C_cross)"
   ]
  },
  {
   "cell_type": "code",
   "execution_count": null,
   "metadata": {},
   "outputs": [],
   "source": [
    "result=np.array(C_cross_total)/np.pi/calculate_r(d,len(position))**2"
   ]
  },
  {
   "cell_type": "code",
   "execution_count": null,
   "metadata": {},
   "outputs": [],
   "source": [
    "n_exction = interp1d(wavelength_exp,result.flatten(),\"cubic\")"
   ]
  },
  {
   "cell_type": "code",
   "execution_count": null,
   "metadata": {},
   "outputs": [],
   "source": [
    "plt.plot(np.linspace(0.4,0.95,1101),n_exction(np.linspace(0.4,0.95,1101)))"
   ]
  },
  {
   "cell_type": "code",
   "execution_count": null,
   "metadata": {},
   "outputs": [],
   "source": [
    "np.linspace(0.4,0.95,1101)[np.argmax(n_exction(np.linspace(0.4,0.95,1101)))]"
   ]
  },
  {
   "cell_type": "code",
   "execution_count": null,
   "metadata": {},
   "outputs": [],
   "source": [
    "data = result\n",
    "np.savetxt('11_by_33nm_rods.csv',data,delimiter=',')"
   ]
  },
  {
   "cell_type": "code",
   "execution_count": null,
   "metadata": {},
   "outputs": [],
   "source": []
  }
 ],
 "metadata": {
  "kernelspec": {
   "display_name": "Python 3",
   "language": "python",
   "name": "python3"
  },
  "language_info": {
   "codemirror_mode": {
    "name": "ipython",
    "version": 3
   },
   "file_extension": ".py",
   "mimetype": "text/x-python",
   "name": "python",
   "nbconvert_exporter": "python",
   "pygments_lexer": "ipython3",
   "version": "3.7.7"
  }
 },
 "nbformat": 4,
 "nbformat_minor": 2
}

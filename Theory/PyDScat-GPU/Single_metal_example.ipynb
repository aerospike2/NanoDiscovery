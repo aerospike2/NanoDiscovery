{
 "cells": [
  {
   "cell_type": "code",
   "execution_count": null,
   "metadata": {
    "scrolled": true
   },
   "outputs": [],
   "source": [
    "\n",
    "# -------------------------------------------------------------------------------------- #\n",
    "# ---------- DISCRETE DIPOLE METHOD FOR UV-VIS CALCULATIONS FROM DIPOLE DATA ----------- #\n",
    "# -------------------------------------------------------------------------------------- #\n",
    "import os\n",
    "import json\n",
    "import pathlib\n",
    "import numpy as np\n",
    "from dda import DDA\n",
    "\n",
    "# GPU Device Config\n",
    "os.environ[\"CUDA_DEVICE_ORDER\"]=\"PCI_BUS_ID\"   \n",
    "os.environ[\"CUDA_VISIBLE_DEVICES\"]=\"3\"\n",
    "\n",
    "current_folder_path = pathlib.Path().absolute()\n",
    "\n",
    "config = {'gpu_device': '/GPU:0',\n",
    "          'dipole_length': 1,\n",
    "          'min_wavelength': 0.4,\n",
    "          'max_wavelength': 0.8,\n",
    "          'num_wavelengths': 41,\n",
    "          'ref_medium': 1.333,\n",
    "          'rotation_steps': 10,\n",
    "          'folder_path': None,\n",
    "          'calculate_electricField': True,\n",
    "          'lattice_constant': 0.41,\n",
    "          'ref_data': [str(current_folder_path) + '/Au_ref_index.csv',str(current_folder_path) + '/Ag_ref_index.csv'],\n",
    "          'metals': [\"Au\",\"Ag\"],\n",
    "          'dipole_data': str(current_folder_path)+ '/dipole_list.csv',\n",
    "          \"ratio\":[1.0, 0.0],\n",
    "          \"method\":\"homo\",\n",
    "          \"custom_ratio_path\":None,\n",
    "          'atom_data':None,\n",
    "          'lattice_constant': None\n",
    "        }\n",
    "config['folder_path'] = str(current_folder_path)\n",
    "np_dda = DDA(config)\n",
    "np_dda.run_DDA()\n",
    "np_dda.plot_spectra()\n",
    "np.savetxt(\"Results.csv\",np.array(np_dda.C_cross_total)/np.pi/np_dda.c_rad**2,delimiter=\",\")"
   ]
  },
  {
   "cell_type": "code",
   "execution_count": null,
   "metadata": {},
   "outputs": [],
   "source": []
  }
 ],
 "metadata": {
  "kernelspec": {
   "display_name": "Python 3",
   "language": "python",
   "name": "python3"
  },
  "language_info": {
   "codemirror_mode": {
    "name": "ipython",
    "version": 3
   },
   "file_extension": ".py",
   "mimetype": "text/x-python",
   "name": "python",
   "nbconvert_exporter": "python",
   "pygments_lexer": "ipython3",
   "version": "3.7.7"
  }
 },
 "nbformat": 4,
 "nbformat_minor": 4
}

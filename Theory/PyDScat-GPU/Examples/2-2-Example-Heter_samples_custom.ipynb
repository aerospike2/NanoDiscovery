{
 "cells": [
  {
   "cell_type": "markdown",
   "metadata": {},
   "source": [
    "# This is the notebook to generate data for Heter_custom\n",
    "# See exp7_custom"
   ]
  },
  {
   "cell_type": "code",
   "execution_count": null,
   "metadata": {},
   "outputs": [],
   "source": [
    "import os\n",
    "import json\n",
    "import pathlib\n",
    "import numpy as np\n",
    "import pandas as pd\n",
    "from dda import DDA\n",
    "np.random.seed(0)"
   ]
  },
  {
   "cell_type": "markdown",
   "metadata": {},
   "source": [
    "# Define the path"
   ]
  },
  {
   "cell_type": "code",
   "execution_count": null,
   "metadata": {
    "scrolled": true
   },
   "outputs": [],
   "source": [
    "current_folder_path = pathlib.Path().absolute()\n",
    "exp_index = '/exp7_custom'"
   ]
  },
  {
   "cell_type": "code",
   "execution_count": null,
   "metadata": {},
   "outputs": [],
   "source": [
    "# Create a file recording the component ratio for every dipole\n",
    "# the ratio is set as 0.8:0.2 = Au:Ag\n",
    "np.savetxt(str(current_folder_path)+'/Heter_samples'+exp_index+'/custom_ratio.csv',np.array([0.8,0.2]).reshape(-1,1).repeat(3654,axis=1),delimiter=',')"
   ]
  },
  {
   "cell_type": "code",
   "execution_count": null,
   "metadata": {},
   "outputs": [],
   "source": [
    "# GPU Device Config\n",
    "os.environ[\"CUDA_DEVICE_ORDER\"]=\"PCI_BUS_ID\"   \n",
    "os.environ[\"CUDA_VISIBLE_DEVICES\"]=\"3\"\n",
    "config = {'gpu_device': '/GPU:0',\n",
    "          'dipole_length': 1,\n",
    "          'min_wavelength': 0.4,\n",
    "          'max_wavelength': 0.8,\n",
    "          'num_wavelengths': 41,\n",
    "          'ref_medium': 1.333,\n",
    "          'rotation_steps': 10,\n",
    "          'folder_path': None,\n",
    "          'calculate_electricField': False,\n",
    "          'lattice_constant': 0.41,\n",
    "          'ref_data': [str(current_folder_path) + '/Au_ref_index.csv',str(current_folder_path) + '/Ag_ref_index.csv'],\n",
    "          'metals': [\"Au\",\"Ag\"],\n",
    "          'dipole_data': str(current_folder_path)+'/Heter_samples' + '/dipole_list.csv',\n",
    "          'atom_data': None,\n",
    "          \"ratio\":None,\n",
    "          \"method\":\"heter_custom\",\n",
    "          \"custom_ratio_path\":str(current_folder_path)+'/Heter_samples'+exp_index+'/custom_ratio.csv',\n",
    "        }"
   ]
  },
  {
   "cell_type": "code",
   "execution_count": null,
   "metadata": {
    "scrolled": true
   },
   "outputs": [],
   "source": [
    "config['folder_path'] = str(current_folder_path) + '/Heter_samples' + exp_index\n",
    "with open(config['folder_path']+'/config.json','w') as outfile:\n",
    "    json.dump(config,outfile)\n",
    "# define the DDA object\n",
    "np_dda = DDA(config)"
   ]
  },
  {
   "cell_type": "code",
   "execution_count": null,
   "metadata": {
    "scrolled": true
   },
   "outputs": [],
   "source": [
    "# perform the calculation\n",
    "np_dda.run_DDA()\n",
    "np_dda.plot_spectra()"
   ]
  },
  {
   "cell_type": "code",
   "execution_count": 12,
   "metadata": {},
   "outputs": [
    {
     "name": "stdout",
     "output_type": "stream",
     "text": [
      "0.0\n",
      "0.0024651288986206055\n"
     ]
    }
   ],
   "source": [
    "# Since the ratio of Au:Ag was set 0.8:0.2\n",
    "# the final result should be very similar to /Heter_samples/exp3 and identical to /Homo_samples/exp3\n",
    "data1 = np.loadtxt(str(current_folder_path)+'/Heter_samples'+exp_index+'/Results.csv')\n",
    "data2 = np.loadtxt(str(current_folder_path)+'/Homo_samples'+'/exp3'+'/Results.csv')\n",
    "data3 = np.loadtxt(str(current_folder_path)+'/Heter_samples'+'/exp3'+'/Results.csv')\n",
    "print(max(abs(data1 - data2)))\n",
    "print(max(abs(data1-data3)))"
   ]
  },
  {
   "cell_type": "code",
   "execution_count": null,
   "metadata": {},
   "outputs": [],
   "source": []
  }
 ],
 "metadata": {
  "kernelspec": {
   "display_name": "Python 3 (ipykernel)",
   "language": "python",
   "name": "python3"
  },
  "language_info": {
   "codemirror_mode": {
    "name": "ipython",
    "version": 3
   },
   "file_extension": ".py",
   "mimetype": "text/x-python",
   "name": "python",
   "nbconvert_exporter": "python",
   "pygments_lexer": "ipython3",
   "version": "3.9.6"
  }
 },
 "nbformat": 4,
 "nbformat_minor": 4
}

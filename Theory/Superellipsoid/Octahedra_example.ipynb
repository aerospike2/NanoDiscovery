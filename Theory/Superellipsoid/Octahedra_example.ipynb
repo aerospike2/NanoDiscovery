{
 "cells": [
  {
   "cell_type": "code",
   "execution_count": null,
   "source": [
    "\r\n",
    "# -------------------------------------------------------------------------------------- #\r\n",
    "# ---------- DISCRETE DIPOLE METHOD FOR UV-VIS CALCULATIONS FROM DIPOLE DATA ----------- #\r\n",
    "# -------------------------------------------------------------------------------------- #\r\n",
    "import os\r\n",
    "import json\r\n",
    "import pathlib\r\n",
    "import numpy as np\r\n",
    "from dda import DDA\r\n",
    "\r\n",
    "# GPU Device Config\r\n",
    "os.environ[\"CUDA_DEVICE_ORDER\"]=\"PCI_BUS_ID\"   \r\n",
    "os.environ[\"CUDA_VISIBLE_DEVICES\"]=\"3\"\r\n",
    "\r\n",
    "current_folder_path = pathlib.Path().absolute()\r\n",
    "\r\n",
    "config = {'gpu_device': '/GPU:0',\r\n",
    "          'dipole_length': 1.44,\r\n",
    "          'min_wavelength': 0.4,\r\n",
    "          'max_wavelength': 0.95,\r\n",
    "          'num_wavelengths': 56,\r\n",
    "          'ref_medium': 1.333,\r\n",
    "          'rotation_steps': 10,\r\n",
    "          'folder_path': None,\r\n",
    "          'calculate_electricField': False,\r\n",
    "          'lattice_constant': 0.41,\r\n",
    "          'ref_data': [str(current_folder_path) + '/Au_ref_index.csv',str(current_folder_path) + '/Ag_ref_index.csv'],\r\n",
    "          'metals': [\"Au\",\"Ag\"],\r\n",
    "          'dipole_data': str(current_folder_path)+ '/Experiment_20_20_20_1_1/dipoleList.csv',\r\n",
    "          \"ratio\":[1.0, 0.0],\r\n",
    "          \"method\":\"homo\",\r\n",
    "          \"custom_ratio_path\":None,\r\n",
    "          'atom_data':None,\r\n",
    "          'lattice_constant': None\r\n",
    "        }\r\n",
    "config['folder_path'] = str(current_folder_path)+'/Experiment_20_20_20_1_1/'\r\n",
    "np_dda = DDA(config)\r\n",
    "np_dda.run_DDA()\r\n",
    "np_dda.plot_spectra()\r\n",
    "np.savetxt(\"Results.csv\",np.array(np_dda.C_cross_total)/np.pi/np_dda.c_rad**2,delimiter=\",\")"
   ],
   "outputs": [],
   "metadata": {
    "scrolled": true
   }
  },
  {
   "cell_type": "code",
   "execution_count": null,
   "source": [],
   "outputs": [],
   "metadata": {}
  }
 ],
 "metadata": {
  "kernelspec": {
   "display_name": "Python 3",
   "language": "python",
   "name": "python3"
  },
  "language_info": {
   "codemirror_mode": {
    "name": "ipython",
    "version": 3
   },
   "file_extension": ".py",
   "mimetype": "text/x-python",
   "name": "python",
   "nbconvert_exporter": "python",
   "pygments_lexer": "ipython3",
   "version": "3.7.7"
  }
 },
 "nbformat": 4,
 "nbformat_minor": 4
}